{
 "cells": [
  {
   "cell_type": "markdown",
   "metadata": {},
   "source": [
    "# AB Testing Website -> Enrollment rate¶\n",
    "Website and Groups\n",
    "A website has two versions (old and new).\n",
    "The control group viewed the old website.\n",
    "The experiment group viewed the new website.\n",
    "\n",
    "<strong>Metric</strong><br>\n",
    "The data provided contains the views and clicks of the control group and the experiment group. The metric used in order to determine which website is better is the click trough rate(CTR).\n",
    "CTR = total number of clicks per user / total number of page visits per user.\n",
    "\n",
    "<strong>Objective</strong><br>\n",
    "The objective is to check if the new website should be adopted.\n",
    "\n",
    "<strong>Hypothesis</strong><br>\n",
    "H0: ctr_group_experiment - ctr_group_control <= 0\n",
    "H1: ctr_group_experiment - ctr_group_control > 0\n",
    "\n",
    "<strong>Steps that need to happen:</strong><br>\n",
    "1. We computed the <strong>observed difference</strong> between the metric, click through rate, for the control and experiment group.<br>\n",
    "2. We <strong>simulated the sampling distribution</strong> for the difference in proportions (or difference in click through rates). This is done by making use of bootstrapping.<br>\n",
    "3. We used this sampling distribution to <strong>simulate the distribution under the null hypothesis</strong>, by creating a random normal distribution centered at 0 with the same spread and size.<br>\n",
    "4. We computed the p-value by finding the proportion of values in the null distribution that were greater than our observed difference.<br>\n",
    "5. We used this p-value to determine the statistical significance of our observed difference.<br>"
   ]
  },
  {
   "cell_type": "markdown",
   "metadata": {},
   "source": [
    "## 0. Explore the data"
   ]
  },
  {
   "cell_type": "code",
   "execution_count": 137,
   "metadata": {},
   "outputs": [],
   "source": [
    "import numpy as np\n",
    "import pandas as pd\n",
    "import matplotlib.pyplot as plt\n",
    "%matplotlib inline\n",
    "\n",
    "np.random.seed(42)"
   ]
  },
  {
   "cell_type": "code",
   "execution_count": 138,
   "metadata": {},
   "outputs": [
    {
     "data": {
      "text/html": [
       "<div>\n",
       "<style scoped>\n",
       "    .dataframe tbody tr th:only-of-type {\n",
       "        vertical-align: middle;\n",
       "    }\n",
       "\n",
       "    .dataframe tbody tr th {\n",
       "        vertical-align: top;\n",
       "    }\n",
       "\n",
       "    .dataframe thead th {\n",
       "        text-align: right;\n",
       "    }\n",
       "</style>\n",
       "<table border=\"1\" class=\"dataframe\">\n",
       "  <thead>\n",
       "    <tr style=\"text-align: right;\">\n",
       "      <th></th>\n",
       "      <th>timestamp</th>\n",
       "      <th>id</th>\n",
       "      <th>group</th>\n",
       "      <th>action</th>\n",
       "      <th>duration</th>\n",
       "    </tr>\n",
       "  </thead>\n",
       "  <tbody>\n",
       "    <tr>\n",
       "      <th>0</th>\n",
       "      <td>2016-09-24 17:14:52.012145</td>\n",
       "      <td>261869</td>\n",
       "      <td>experiment</td>\n",
       "      <td>view</td>\n",
       "      <td>130.545004</td>\n",
       "    </tr>\n",
       "    <tr>\n",
       "      <th>1</th>\n",
       "      <td>2016-09-24 18:45:09.645857</td>\n",
       "      <td>226546</td>\n",
       "      <td>experiment</td>\n",
       "      <td>view</td>\n",
       "      <td>159.862440</td>\n",
       "    </tr>\n",
       "    <tr>\n",
       "      <th>2</th>\n",
       "      <td>2016-09-24 19:16:21.002533</td>\n",
       "      <td>286353</td>\n",
       "      <td>experiment</td>\n",
       "      <td>view</td>\n",
       "      <td>79.349315</td>\n",
       "    </tr>\n",
       "    <tr>\n",
       "      <th>3</th>\n",
       "      <td>2016-09-24 19:43:06.927785</td>\n",
       "      <td>842279</td>\n",
       "      <td>experiment</td>\n",
       "      <td>view</td>\n",
       "      <td>55.536126</td>\n",
       "    </tr>\n",
       "    <tr>\n",
       "      <th>4</th>\n",
       "      <td>2016-09-24 21:08:22.790333</td>\n",
       "      <td>781883</td>\n",
       "      <td>experiment</td>\n",
       "      <td>view</td>\n",
       "      <td>204.322437</td>\n",
       "    </tr>\n",
       "  </tbody>\n",
       "</table>\n",
       "</div>"
      ],
      "text/plain": [
       "                    timestamp      id       group action    duration\n",
       "0  2016-09-24 17:14:52.012145  261869  experiment   view  130.545004\n",
       "1  2016-09-24 18:45:09.645857  226546  experiment   view  159.862440\n",
       "2  2016-09-24 19:16:21.002533  286353  experiment   view   79.349315\n",
       "3  2016-09-24 19:43:06.927785  842279  experiment   view   55.536126\n",
       "4  2016-09-24 21:08:22.790333  781883  experiment   view  204.322437"
      ]
     },
     "execution_count": 138,
     "metadata": {},
     "output_type": "execute_result"
    }
   ],
   "source": [
    "df = pd.read_csv('course_page_actions.csv')\n",
    "df.head()"
   ]
  },
  {
   "cell_type": "markdown",
   "metadata": {},
   "source": [
    "## 1. Simulated the sampling distribution"
   ]
  },
  {
   "cell_type": "markdown",
   "metadata": {},
   "source": [
    "We simulated the sampling distribution for the difference in proportions (or difference in click through rates). This is done by making use of bootstrapping."
   ]
  },
  {
   "cell_type": "code",
   "execution_count": 139,
   "metadata": {},
   "outputs": [
    {
     "data": {
      "text/plain": [
       "0.2364438839848676"
      ]
     },
     "execution_count": 139,
     "metadata": {},
     "output_type": "execute_result"
    }
   ],
   "source": [
    "# calculation needs of control group\n",
    "# - number of unique enrollments \n",
    "# - number of unique users that viewed pages\n",
    "# - CALCULATION: metric is devide unique user enrollments / number of unique users that viewed pages\n",
    "\n",
    "# get control dataframe\n",
    "control_df = df[df['group'] == 'control']\n",
    "\n",
    "# number of unique enrollments \n",
    "control_df_enroll = control_df[control_df['action'] == 'enroll']\n",
    "nr_unique_enroll = control_df_enroll['id'].nunique()\n",
    "\n",
    "# number of unique users that viewed pages\n",
    "control_df_view = control_df[control_df['action'] == 'view']\n",
    "nr_unique_view = control_df_view['id'].nunique()\n",
    "\n",
    "# CALCULATION: metric is devide unique user enrollments / number of unique users that viewed pages\n",
    "control_ctr = nr_unique_enroll / nr_unique_view\n",
    "\n",
    "control_ctr"
   ]
  },
  {
   "cell_type": "code",
   "execution_count": 140,
   "metadata": {},
   "outputs": [
    {
     "data": {
      "text/plain": [
       "0.2668693009118541"
      ]
     },
     "execution_count": 140,
     "metadata": {},
     "output_type": "execute_result"
    }
   ],
   "source": [
    "# Get dataframe with all records from experiment group\n",
    "experiment_df = df[df['group'] == 'experiment']\n",
    "\n",
    "# number of unique enrollments \n",
    "experiment_df_entroll = experiment_df[experiment_df['action'] == 'enroll']\n",
    "nr_unique_enroll = experiment_df_entroll['id'].nunique()\n",
    "\n",
    "# number of unique users that viewed pages\n",
    "experiment_df_view = experiment_df[experiment_df['action'] == 'view']\n",
    "nr_unique_views = experiment_df_view['id'].nunique()\n",
    "\n",
    "experiment_ctr = nr_unique_enroll / nr_unique_views\n",
    "\n",
    "# Display click through rate\n",
    "experiment_ctr"
   ]
  },
  {
   "cell_type": "code",
   "execution_count": 141,
   "metadata": {},
   "outputs": [
    {
     "data": {
      "text/plain": [
       "0.030425416926986526"
      ]
     },
     "execution_count": 141,
     "metadata": {},
     "output_type": "execute_result"
    }
   ],
   "source": [
    "# Compute the observed difference in click through rates\n",
    "obs_diff = experiment_ctr - control_ctr\n",
    "\n",
    "# Display observed difference\n",
    "obs_diff"
   ]
  },
  {
   "cell_type": "markdown",
   "metadata": {},
   "source": [
    "## 2. We simulated the sampling distribution for the difference in proportions (or difference in click through rates). This is done by making use of bootstrapping."
   ]
  },
  {
   "cell_type": "code",
   "execution_count": 142,
   "metadata": {},
   "outputs": [],
   "source": [
    "diffs = []\n",
    "\n",
    "for _ in range(10000):\n",
    "    \n",
    "    # 1. Get sample data\n",
    "    df_sample = df.sample(df.shape[0], replace = True)\n",
    "\n",
    "    # 2. Control dataframe\n",
    "    # get control dataframe\n",
    "    control_df = df_sample[df_sample['group'] == 'control']\n",
    "\n",
    "    # number of unique enrollments \n",
    "    control_df_enroll = control_df[control_df['action'] == 'enroll']\n",
    "    nr_unique_enroll = control_df_enroll['id'].nunique()\n",
    "\n",
    "    # number of unique users that viewed pages\n",
    "    control_df_view = control_df[control_df['action'] == 'view']\n",
    "    nr_unique_view = control_df_view['id'].nunique()\n",
    "\n",
    "    # CALCULATION: metric is devide unique user enrollments / number of unique users that viewed pages\n",
    "    control_ctr = nr_unique_enroll / nr_unique_view\n",
    "\n",
    "    # 3. Experiment dataframe\n",
    "    # Get dataframe with all records from experiment group\n",
    "    experiment_df = df_sample[df_sample['group'] == 'experiment']\n",
    "\n",
    "    # number of unique enrollments \n",
    "    experiment_df_entroll = experiment_df[experiment_df['action'] == 'enroll']\n",
    "    nr_unique_enroll = experiment_df_entroll['id'].nunique()\n",
    "\n",
    "    # number of unique users that viewed pages\n",
    "    experiment_df_view = experiment_df[experiment_df['action'] == 'view']\n",
    "    nr_unique_views = experiment_df_view['id'].nunique()\n",
    "\n",
    "    experiment_ctr = nr_unique_enroll / nr_unique_views\n",
    "\n",
    "    # 4. append ctr\n",
    "    iobs_diff = experiment_ctr - control_ctr \n",
    "\n",
    "    diffs.append(iobs_diff)\n"
   ]
  },
  {
   "cell_type": "code",
   "execution_count": 143,
   "metadata": {},
   "outputs": [
    {
     "data": {
      "image/png": "[encoded data removed]",
      "text/plain": [
       "<Figure size 432x288 with 1 Axes>"
      ]
     },
     "metadata": {
      "needs_background": "light"
     },
     "output_type": "display_data"
    }
   ],
   "source": [
    "# Convert to numpy array\n",
    "np_diffs = np.array(diffs)\n",
    "\n",
    "# Plot sampling distribution\n",
    "plt.hist(np_diffs);\n",
    "plt.axvline(x=obs_diff, color='red');"
   ]
  },
  {
   "cell_type": "markdown",
   "metadata": {},
   "source": [
    "## 3. Simulate the distribution under the null hypothesis"
   ]
  },
  {
   "cell_type": "code",
   "execution_count": 144,
   "metadata": {},
   "outputs": [
    {
     "data": {
      "image/png": "[encoded data removed]",
      "text/plain": [
       "<Figure size 432x288 with 1 Axes>"
      ]
     },
     "metadata": {
      "needs_background": "light"
     },
     "output_type": "display_data"
    }
   ],
   "source": [
    "# Simulate distribution under the null hypothesis\n",
    "null_vals = np.random.normal(0, np_diffs.std(), np_diffs.size)\n",
    "\n",
    "# Plot the null distribution\n",
    "plt.hist(null_vals);\n",
    "# plt.axvline(x=obs_diff, color='red');"
   ]
  },
  {
   "cell_type": "code",
   "execution_count": 145,
   "metadata": {},
   "outputs": [
    {
     "data": {
      "image/png": "[encoded data removed]",
      "text/plain": [
       "<Figure size 432x288 with 1 Axes>"
      ]
     },
     "metadata": {
      "needs_background": "light"
     },
     "output_type": "display_data"
    }
   ],
   "source": [
    "# Plot observed statistic with the null distibution\n",
    "# Plot the null distribution\n",
    "plt.hist(null_vals);\n",
    "plt.axvline(x=obs_diff, color='red');\n"
   ]
  },
  {
   "cell_type": "markdown",
   "metadata": {},
   "source": [
    "## 4. Computed the p-value\n",
    "We computed the p-value by finding the proportion of values in the null distribution that were greater than our observed difference."
   ]
  },
  {
   "cell_type": "code",
   "execution_count": 146,
   "metadata": {},
   "outputs": [
    {
     "data": {
      "text/plain": [
       "0.0188"
      ]
     },
     "execution_count": 146,
     "metadata": {},
     "output_type": "execute_result"
    }
   ],
   "source": [
    "# Compute p-value\n",
    "p_value = (null_vals > obs_diff).mean()\n",
    "p_value"
   ]
  },
  {
   "cell_type": "code",
   "execution_count": 147,
   "metadata": {},
   "outputs": [
    {
     "name": "stdout",
     "output_type": "stream",
     "text": [
      "reject H0\n"
     ]
    }
   ],
   "source": [
    "if p_value < 0.05:\n",
    "    print('reject H0')\n",
    "else:\n",
    "    print('fail to reject H0')"
   ]
  },
  {
   "cell_type": "code",
   "execution_count": null,
   "metadata": {},
   "outputs": [],
   "source": []
  },
  {
   "cell_type": "code",
   "execution_count": null,
   "metadata": {},
   "outputs": [],
   "source": []
  },
  {
   "cell_type": "code",
   "execution_count": null,
   "metadata": {},
   "outputs": [],
   "source": []
  }
 ],
 "metadata": {
  "kernelspec": {
   "display_name": "Python 3",
   "language": "python",
   "name": "python3"
  },
  "language_info": {
   "codemirror_mode": {
    "name": "ipython",
    "version": 3
   },
   "file_extension": ".py",
   "mimetype": "text/x-python",
   "name": "python",
   "nbconvert_exporter": "python",
   "pygments_lexer": "ipython3",
   "version": "3.8.5"
  }
 },
 "nbformat": 4,
 "nbformat_minor": 2
}
