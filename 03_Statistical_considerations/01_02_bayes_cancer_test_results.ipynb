{
 "cells": [
  {
   "cell_type": "markdown",
   "metadata": {
    "collapsed": true
   },
   "source": [
    "# Cancer Test Results"
   ]
  },
  {
   "cell_type": "code",
   "execution_count": 26,
   "metadata": {},
   "outputs": [
    {
     "data": {
      "text/html": [
       "<div>\n",
       "<style scoped>\n",
       "    .dataframe tbody tr th:only-of-type {\n",
       "        vertical-align: middle;\n",
       "    }\n",
       "\n",
       "    .dataframe tbody tr th {\n",
       "        vertical-align: top;\n",
       "    }\n",
       "\n",
       "    .dataframe thead th {\n",
       "        text-align: right;\n",
       "    }\n",
       "</style>\n",
       "<table border=\"1\" class=\"dataframe\">\n",
       "  <thead>\n",
       "    <tr style=\"text-align: right;\">\n",
       "      <th></th>\n",
       "      <th>patient_id</th>\n",
       "      <th>test_result</th>\n",
       "      <th>has_cancer</th>\n",
       "    </tr>\n",
       "  </thead>\n",
       "  <tbody>\n",
       "    <tr>\n",
       "      <th>0</th>\n",
       "      <td>79452</td>\n",
       "      <td>Negative</td>\n",
       "      <td>False</td>\n",
       "    </tr>\n",
       "    <tr>\n",
       "      <th>1</th>\n",
       "      <td>81667</td>\n",
       "      <td>Positive</td>\n",
       "      <td>True</td>\n",
       "    </tr>\n",
       "    <tr>\n",
       "      <th>2</th>\n",
       "      <td>76297</td>\n",
       "      <td>Negative</td>\n",
       "      <td>False</td>\n",
       "    </tr>\n",
       "    <tr>\n",
       "      <th>3</th>\n",
       "      <td>36593</td>\n",
       "      <td>Negative</td>\n",
       "      <td>False</td>\n",
       "    </tr>\n",
       "    <tr>\n",
       "      <th>4</th>\n",
       "      <td>53717</td>\n",
       "      <td>Negative</td>\n",
       "      <td>False</td>\n",
       "    </tr>\n",
       "  </tbody>\n",
       "</table>\n",
       "</div>"
      ],
      "text/plain": [
       "   patient_id test_result  has_cancer\n",
       "0       79452    Negative       False\n",
       "1       81667    Positive        True\n",
       "2       76297    Negative       False\n",
       "3       36593    Negative       False\n",
       "4       53717    Negative       False"
      ]
     },
     "execution_count": 26,
     "metadata": {},
     "output_type": "execute_result"
    }
   ],
   "source": [
    "# load dataset\n",
    "import numpy as np\n",
    "import pandas as pd \n",
    "\n",
    "df = pd.read_csv('data/cancer_test_data.csv') \n",
    "\n",
    "df.head()"
   ]
  },
  {
   "cell_type": "code",
   "execution_count": 30,
   "metadata": {},
   "outputs": [
    {
     "data": {
      "text/plain": [
       "2914"
      ]
     },
     "execution_count": 30,
     "metadata": {},
     "output_type": "execute_result"
    }
   ],
   "source": [
    "# number of patients\n",
    "num_patients = df['patient_id'].nunique()\n",
    "num_patients"
   ]
  },
  {
   "cell_type": "code",
   "execution_count": 32,
   "metadata": {},
   "outputs": [
    {
     "data": {
      "text/plain": [
       "306"
      ]
     },
     "execution_count": 32,
     "metadata": {},
     "output_type": "execute_result"
    }
   ],
   "source": [
    "# number of patients with cancer\n",
    "num_cancer = len(df[df['has_cancer'] == True])\n",
    "num_cancer"
   ]
  },
  {
   "cell_type": "code",
   "execution_count": 33,
   "metadata": {},
   "outputs": [
    {
     "data": {
      "text/plain": [
       "2608"
      ]
     },
     "execution_count": 33,
     "metadata": {},
     "output_type": "execute_result"
    }
   ],
   "source": [
    "# number of patients without cancer\n",
    "num_notcancer = len(df[df['has_cancer'] == False])\n",
    "num_notcancer"
   ]
  },
  {
   "cell_type": "code",
   "execution_count": 36,
   "metadata": {},
   "outputs": [
    {
     "data": {
      "text/plain": [
       "0.10501029512697323"
      ]
     },
     "execution_count": 36,
     "metadata": {},
     "output_type": "execute_result"
    }
   ],
   "source": [
    "# proportion of patients with cancer\n",
    "pc = num_cancer / num_patients\n",
    "pc"
   ]
  },
  {
   "cell_type": "code",
   "execution_count": 38,
   "metadata": {},
   "outputs": [
    {
     "data": {
      "text/plain": [
       "0.8949897048730268"
      ]
     },
     "execution_count": 38,
     "metadata": {},
     "output_type": "execute_result"
    }
   ],
   "source": [
    "# proportion of patients without cancer\n",
    "pnc = num_notcancer / num_patients\n",
    "pnc"
   ]
  },
  {
   "cell_type": "code",
   "execution_count": 69,
   "metadata": {},
   "outputs": [
    {
     "data": {
      "text/plain": [
       "0.9052287581699346"
      ]
     },
     "execution_count": 69,
     "metadata": {},
     "output_type": "execute_result"
    }
   ],
   "source": [
    "# proportion of patients with cancer who test positive\n",
    "num_positive = len(df[df['test_result'] == 'Positive'])\n",
    "num_positive\n",
    "\n",
    "# people with cancer\n",
    "df_can = df[df['has_cancer'] == True]\n",
    "\n",
    "# people with cancer that test negative\n",
    "df_can_pos = df_can[df_can['test_result'] == 'Positive']\n",
    "\n",
    "# portion of people with cancer that test negative\n",
    "len(df_can_pos) / num_cancer"
   ]
  },
  {
   "cell_type": "code",
   "execution_count": 60,
   "metadata": {},
   "outputs": [
    {
     "data": {
      "text/plain": [
       "0.09477124183006536"
      ]
     },
     "execution_count": 60,
     "metadata": {},
     "output_type": "execute_result"
    }
   ],
   "source": [
    "# proportion of patients with cancer who test negative\n",
    "# P(N|C) = ?\n",
    "# p(N|C) = P(N) * P(C|N) / P(C)\n",
    "\n",
    "# do not use formula, count the people rather:\n",
    "\n",
    "# people with cancer\n",
    "df_can = df[df['has_cancer'] == True]\n",
    "\n",
    "# people with cancer that test negative\n",
    "df_can_neg = df_can[df_can['test_result'] == 'Negative']\n",
    "\n",
    "# portion of people with cancer that test negative\n",
    "len(df_can_neg) / num_cancer"
   ]
  },
  {
   "cell_type": "code",
   "execution_count": 62,
   "metadata": {},
   "outputs": [
    {
     "data": {
      "text/plain": [
       "0.2036042944785276"
      ]
     },
     "execution_count": 62,
     "metadata": {},
     "output_type": "execute_result"
    }
   ],
   "source": [
    "# proportion of patients without cancer who test positive\n",
    "# P(P|!C) = ?\n",
    "# p(P|!C) =  P(P) + p(!C|P) / P(!C)\n",
    "\n",
    "# do not use formula, count the people rather:\n",
    "\n",
    "# people with cancer\n",
    "df_notcan = df[df['has_cancer'] == False]\n",
    "\n",
    "# people with cancer that test positive\n",
    "df_notcan_pos = df_notcan[df_notcan['test_result'] == 'Positive']\n",
    "\n",
    "# portion of people with cancer that test negative\n",
    "len(df_notcan_pos) / num_notcancer"
   ]
  },
  {
   "cell_type": "code",
   "execution_count": 71,
   "metadata": {},
   "outputs": [
    {
     "data": {
      "text/plain": [
       "0.7963957055214724"
      ]
     },
     "execution_count": 71,
     "metadata": {},
     "output_type": "execute_result"
    }
   ],
   "source": [
    "# proportion of patients without cancer who test negative\n",
    "# P(N|!C) = ? \n",
    "# P(N|!C) =  P(N) * P(!C|N) / P(!C)\n",
    "\n",
    "# people without cancer\n",
    "df_notcan = df[df['has_cancer'] == False]\n",
    "\n",
    "# people with cancer that test positive\n",
    "df_notcan_neg = df_notcan[df_notcan['test_result'] == 'Negative']\n",
    "\n",
    "# portion of people with cancer that test negative\n",
    "len(df_notcan_neg) / num_notcancer"
   ]
  },
  {
   "cell_type": "code",
   "execution_count": 72,
   "metadata": {},
   "outputs": [
    {
     "data": {
      "text/plain": [
       "0.7963957055214724"
      ]
     },
     "execution_count": 72,
     "metadata": {},
     "output_type": "execute_result"
    }
   ],
   "source": [
    "# P(N|!C) = 1 - P(P|!C)\n",
    "1 - (len(df_notcan_pos) / num_notcancer)"
   ]
  },
  {
   "cell_type": "code",
   "execution_count": 76,
   "metadata": {},
   "outputs": [],
   "source": [
    "# values\n",
    "pc = 0.105          # P(C)\n",
    "ph = 1 - 0.105      # P(!C)\n",
    "\n",
    "ppc = 0.905         # P(positive|cancer) = 0.905\n",
    "pnc = 0.0951        # P(negative|cancer) = 0.095\n",
    "pph = 0.204         # P(positive|~cancer) = 0.204\n",
    "pnh = 0.796         # P(negative|~cancer) = 0.796"
   ]
  },
  {
   "cell_type": "code",
   "execution_count": 79,
   "metadata": {},
   "outputs": [
    {
     "data": {
      "text/plain": [
       "0.34230291241151994"
      ]
     },
     "execution_count": 79,
     "metadata": {},
     "output_type": "execute_result"
    }
   ],
   "source": [
    "# P(cancer|positive)\n",
    "# ------------------\n",
    "\n",
    "# P(C|P) = ?    \n",
    "# P(C|P) = P(C) * P(P|C) / P(P)\n",
    "# form this formulate P(P) is not known\n",
    "\n",
    "# calculate p(P)\n",
    "# P(P) = P(C, P) + P(!C, P)\n",
    "\n",
    "# P(C, P) = P(C) * P(P|C)\n",
    "pcp = pc * ppc\n",
    "\n",
    "# P(!C, P) = P(!C ) * P(P|!C)\n",
    "php = ph * pph\n",
    "\n",
    "# P(P) = P(C, P) + P(!C, P)\n",
    "pp = pcp + php\n",
    "\n",
    "# P(C|P) = P(C) * P(P|C) / P(P)\n",
    "pcp = pc * ppc / pp\n",
    "\n",
    "pcp"
   ]
  },
  {
   "cell_type": "code",
   "execution_count": 81,
   "metadata": {},
   "outputs": [
    {
     "data": {
      "text/plain": [
       "0.65769708758848"
      ]
     },
     "execution_count": 81,
     "metadata": {},
     "output_type": "execute_result"
    }
   ],
   "source": [
    "# P(~cancer|positive)\n",
    "# P(!C | P) = ?\n",
    "\n",
    "php = 1 - pcp\n",
    "php"
   ]
  },
  {
   "cell_type": "code",
   "execution_count": 93,
   "metadata": {},
   "outputs": [
    {
     "data": {
      "text/plain": [
       "0.013822569180328776"
      ]
     },
     "execution_count": 93,
     "metadata": {},
     "output_type": "execute_result"
    }
   ],
   "source": [
    "# P(cancer|negative)\n",
    "# P(C|N)\n",
    "# P(C|N) = P(C) *  P(N|C) / P(N)\n",
    "\n",
    "# P(N) = ?\n",
    "# P(N) = P(C, N) + P(!C, N)\n",
    "# P(C, N)?  and P(!C, N)?\n",
    "\n",
    "# P(C, N) = P(C) * P(N|C)\n",
    "pc_n = pc * pnc\n",
    "\n",
    "# P(h, N) = P(h) * P(N|h)\n",
    "ph_n = ph * pnh\n",
    "\n",
    "# P(N) = P(C, N) + P(!C, N)\n",
    "pn = pc_n + ph_n\n",
    "\n",
    "# P(C|N) = P(C) *  P(N|C) / P(N)\n",
    "pcn = pc * pnc / pn\n",
    "pcn"
   ]
  },
  {
   "cell_type": "code",
   "execution_count": 94,
   "metadata": {},
   "outputs": [
    {
     "data": {
      "text/plain": [
       "0.9861774308196712"
      ]
     },
     "execution_count": 94,
     "metadata": {},
     "output_type": "execute_result"
    }
   ],
   "source": [
    "# P(~cancer|negative)\n",
    "# P(!C|N)\n",
    "1- pcn"
   ]
  },
  {
   "cell_type": "code",
   "execution_count": null,
   "metadata": {},
   "outputs": [],
   "source": []
  }
 ],
 "metadata": {
  "kernelspec": {
   "display_name": "Python 3",
   "language": "python",
   "name": "python3"
  },
  "language_info": {
   "codemirror_mode": {
    "name": "ipython",
    "version": 3
   },
   "file_extension": ".py",
   "mimetype": "text/x-python",
   "name": "python",
   "nbconvert_exporter": "python",
   "pygments_lexer": "ipython3",
   "version": "3.8.5"
  }
 },
 "nbformat": 4,
 "nbformat_minor": 2
}
