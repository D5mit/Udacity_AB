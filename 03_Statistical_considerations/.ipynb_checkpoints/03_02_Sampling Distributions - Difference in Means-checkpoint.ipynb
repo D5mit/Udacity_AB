{
 "cells": [
  {
   "cell_type": "markdown",
   "metadata": {},
   "source": [
    "### Confidence Interval - Difference In Means\n",
    "\n",
    "Here you will look through the example from the last video, but you will also go a couple of steps further into what might actually be going on with this data."
   ]
  },
  {
   "cell_type": "code",
   "execution_count": 1,
   "metadata": {},
   "outputs": [],
   "source": [
    "import pandas as pd\n",
    "import numpy as np\n",
    "import matplotlib.pyplot as plt\n",
    "\n",
    "%matplotlib inline\n",
    "np.random.seed(42)\n",
    "\n",
    "full_data = pd.read_csv('data/coffee_dataset.csv')\n",
    "sample_data = full_data.sample(200)"
   ]
  },
  {
   "cell_type": "markdown",
   "metadata": {},
   "source": [
    "`1.` For 10,000 iterations, bootstrap sample your sample data, compute the difference in the average heights for coffee and non-coffee drinkers.  Build a 99% confidence interval using your sampling distribution.  Use your interval to start answering the first quiz question below."
   ]
  },
  {
   "cell_type": "code",
   "execution_count": null,
   "metadata": {
    "pycharm": {
     "is_executing": true
    }
   },
   "outputs": [],
   "source": [
    "mean_diff = []\n",
    "\n",
    "for _ in range(10000):\n",
    "    sample_data_temp = full_data.sample(200, replace = True)\n",
    "    \n",
    "    mean_coffee_yes = sample_data_temp['height'][sample_data_temp['drinks_coffee'] == True].mean()\n",
    "    mean_coffee_non = sample_data_temp['height'][sample_data_temp['drinks_coffee'] == False].mean()\n",
    "\n",
    "    mean_diff_temp = mean_coffee_yes - mean_coffee_non\n",
    "            \n",
    "    mean_diff.append(mean_diff_temp)\n"
   ]
  },
  {
   "cell_type": "code",
   "execution_count": null,
   "metadata": {
    "pycharm": {
     "is_executing": true
    }
   },
   "outputs": [],
   "source": [
    "mean_diff[0:5]"
   ]
  },
  {
   "cell_type": "code",
   "execution_count": null,
   "metadata": {
    "pycharm": {
     "is_executing": true
    }
   },
   "outputs": [],
   "source": [
    "plt.hist(mean_diff);"
   ]
  },
  {
   "cell_type": "code",
   "execution_count": null,
   "metadata": {
    "pycharm": {
     "is_executing": true
    }
   },
   "outputs": [],
   "source": [
    "# mean_diff_temp = temp_sample_mean_coffee_yes - temp_sample_mean_coffee_non\n",
    "np.percentile(mean_diff, 0.5), np.percentile(mean_diff, 99.5)"
   ]
  },
  {
   "cell_type": "code",
   "execution_count": null,
   "metadata": {
    "pycharm": {
     "is_executing": true
    }
   },
   "outputs": [],
   "source": []
  },
  {
   "cell_type": "code",
   "execution_count": null,
   "metadata": {
    "pycharm": {
     "is_executing": true
    }
   },
   "outputs": [],
   "source": []
  },
  {
   "cell_type": "markdown",
   "metadata": {},
   "source": [
    "`2.` For 10,000 iterations, bootstrap sample your sample data, compute the difference in the average heights for those older than 21 and those younger than 21.  Build a 99% confidence interval using your sampling distribution.  Use your interval to finish answering the first quiz question below.  "
   ]
  },
  {
   "cell_type": "code",
   "execution_count": null,
   "metadata": {
    "pycharm": {
     "is_executing": true
    }
   },
   "outputs": [],
   "source": [
    "mean_diff = []\n",
    "\n",
    "for _ in range(10000):\n",
    "    temp_sample = full_data.sample(200, replace=True)\n",
    "    \n",
    "    temp_sample_mean_young21_yes = temp_sample['height'][temp_sample['age'] == '<21'].mean()\n",
    "    temp_sample_mean_young21_non = temp_sample['height'][temp_sample['age'] == '>=21'].mean()\n",
    "    \n",
    "    mean_diff_temp = temp_sample_mean_young21_non - temp_sample_mean_young21_yes\n",
    "    \n",
    "    \n",
    "    mean_diff.append(mean_diff_temp)\n"
   ]
  },
  {
   "cell_type": "code",
   "execution_count": null,
   "metadata": {
    "pycharm": {
     "is_executing": true
    }
   },
   "outputs": [],
   "source": [
    "mean_diff[0:5]"
   ]
  },
  {
   "cell_type": "code",
   "execution_count": 19,
   "metadata": {
    "pycharm": {
     "is_executing": true
    }
   },
   "outputs": [
    {
     "data": {
      "image/png": "[encoded data removed]",
      "text/plain": [
       "<Figure size 432x288 with 1 Axes>"
      ]
     },
     "metadata": {
      "needs_background": "light"
     },
     "output_type": "display_data"
    }
   ],
   "source": [
    "plt.hist(mean_diff);"
   ]
  },
  {
   "cell_type": "code",
   "execution_count": null,
   "metadata": {
    "pycharm": {
     "is_executing": true
    }
   },
   "outputs": [],
   "source": [
    "# mean_diff_temp = temp_sample_mean_young21_non - temp_sample_mean_young21_yes\n",
    "np.percentile(mean_diff, 0.5), np.percentile(mean_diff, 99.5)"
   ]
  },
  {
   "cell_type": "markdown",
   "metadata": {},
   "source": [
    "`3.` For 10,000 iterations bootstrap your sample data, compute the **difference** in the average height for coffee drinkers and the average height for non-coffee drinkers for individuals **under** 21 years old.  Using your sampling distribution, build a 95% confidence interval.  Use your interval to start answering question 2 below."
   ]
  },
  {
   "cell_type": "code",
   "execution_count": null,
   "metadata": {
    "pycharm": {
     "is_executing": true
    }
   },
   "outputs": [],
   "source": [
    "full_data.head()"
   ]
  },
  {
   "cell_type": "code",
   "execution_count": null,
   "metadata": {
    "pycharm": {
     "is_executing": true
    }
   },
   "outputs": [],
   "source": [
    "diff_mean = []\n",
    "\n",
    "for _ in range(10000):\n",
    "    sample_200 = full_data.sample(200, replace=True)\n",
    "    \n",
    "    sample_age = sample_200[sample_200['age'] == '<21']\n",
    "    \n",
    "    mean_coffee_yes = sample_age['height'][sample_age['drinks_coffee'] == True].mean()\n",
    "    mean_coffee_non = sample_age['height'][sample_age['drinks_coffee'] == False].mean()    \n",
    "    \n",
    "    mean_diff_temp = mean_coffee_yes - mean_coffee_non\n",
    "    \n",
    "    diff_mean.append(mean_diff_temp)"
   ]
  },
  {
   "cell_type": "code",
   "execution_count": null,
   "metadata": {
    "pycharm": {
     "is_executing": true
    }
   },
   "outputs": [],
   "source": [
    "diff_mean[0:5]"
   ]
  },
  {
   "cell_type": "code",
   "execution_count": null,
   "metadata": {
    "pycharm": {
     "is_executing": true
    }
   },
   "outputs": [],
   "source": [
    "plt.hist(diff_mean);"
   ]
  },
  {
   "cell_type": "code",
   "execution_count": null,
   "metadata": {
    "pycharm": {
     "is_executing": true
    }
   },
   "outputs": [],
   "source": [
    "# diff_mean_temp = mean_dontdrink - mean_drink\n",
    "np.percentile(diff_mean, 2.5), np.percentile(diff_mean, 97.5)"
   ]
  },
  {
   "cell_type": "code",
   "execution_count": null,
   "metadata": {
    "pycharm": {
     "is_executing": true
    }
   },
   "outputs": [],
   "source": []
  },
  {
   "cell_type": "markdown",
   "metadata": {},
   "source": [
    "`4.` For 10,000 iterations bootstrap your sample data, compute the **difference** in the average height for coffee drinkers and the average height for non-coffee drinkers for individuals **over** 21 years old.  Using your sampling distribution, build a 95% confidence interval. Use your interval to finish answering the second quiz question below. As well as the following questions. "
   ]
  },
  {
   "cell_type": "code",
   "execution_count": null,
   "metadata": {
    "pycharm": {
     "is_executing": true
    }
   },
   "outputs": [],
   "source": [
    "\n",
    "mean_diff = []\n",
    "\n",
    "for i in range(10000):\n",
    "    sample_200 = full_data.sample(200, replace=True)\n",
    "    \n",
    "    sample_200_old = sample_200[sample_200['age'] == '>=21']\n",
    "    \n",
    "    mean_coffee_yes = sample_200_old['height'][sample_200_old['drinks_coffee'] == True].mean()\n",
    "    mean_coffee_non = sample_200_old['height'][sample_200_old['drinks_coffee'] == False].mean()    \n",
    "    \n",
    "    mean_diff_temp = mean_coffee_yes - mean_coffee_non\n",
    "    \n",
    "    mean_diff.append(mean_diff_temp)"
   ]
  },
  {
   "cell_type": "code",
   "execution_count": null,
   "metadata": {
    "pycharm": {
     "is_executing": true
    }
   },
   "outputs": [],
   "source": [
    "mean_diff[0:5]"
   ]
  },
  {
   "cell_type": "code",
   "execution_count": null,
   "metadata": {
    "pycharm": {
     "is_executing": true
    }
   },
   "outputs": [],
   "source": [
    "plt.hist(mean_diff);"
   ]
  },
  {
   "cell_type": "code",
   "execution_count": null,
   "metadata": {
    "pycharm": {
     "is_executing": true
    }
   },
   "outputs": [],
   "source": [
    "# diff = mean_noncoffee - mean_coffee\n",
    "np.percentile(mean_diff, 2.5), np.percentile(mean_diff, 97.5)"
   ]
  },
  {
   "cell_type": "code",
   "execution_count": null,
   "metadata": {
    "pycharm": {
     "is_executing": true
    }
   },
   "outputs": [],
   "source": []
  }
 ],
 "metadata": {
  "kernelspec": {
   "display_name": "Python 3",
   "language": "python",
   "name": "python3"
  },
  "language_info": {
   "codemirror_mode": {
    "name": "ipython",
    "version": 3
   },
   "file_extension": ".py",
   "mimetype": "text/x-python",
   "name": "python",
   "nbconvert_exporter": "python",
   "pygments_lexer": "ipython3",
   "version": "3.8.5"
  }
 },
 "nbformat": 4,
 "nbformat_minor": 2
}
