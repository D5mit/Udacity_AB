{
 "cells": [
  {
   "cell_type": "markdown",
   "metadata": {},
   "source": [
    "## Conditional Probability \n",
    "### 1. Medical Example\n",
    "\n"
   ]
  },
  {
   "cell_type": "markdown",
   "metadata": {},
   "source": [
    "## Desease 2 \n",
    "#### Overall probability\n",
    "- P(C) = 0.1\n",
    "- P(Pos | C)  = 0.9  (sensitivity)\n",
    "- P(Neg | !C) = 0.5  (Specificity)\n",
    "\n",
    "See: https://en.wikipedia.org/wiki/Sensitivity_and_specificity\n"
   ]
  },
  {
   "cell_type": "markdown",
   "metadata": {},
   "source": [
    "#### Short calculations \n",
    "\n",
    "<table width=\"600px\" align=\"left\">\n",
    "    <col width=\"50px\" />\n",
    "    <col width=\"100px\" align=\"left\"/>\n",
    "    <col width=\"100px\" />    \n",
    "    <col/>        \n",
    "    <tr>\n",
    "        <th width=\"10px\">Field</th>\n",
    "        <th>Description</th>\n",
    "        <th>Value</th>\n",
    "        <th>Long description</th>\n",
    "    </tr>\n",
    "    <tr>\n",
    "        <td>a</td>\n",
    "        <td>P (C)</td>\n",
    "        <td>0.1</td>\n",
    "        <td>Probability of having cancer</td>        \n",
    "    </tr>      \n",
    "    <tr>\n",
    "        <td>b</td>\n",
    "        <td>P (!C)</td>\n",
    "        <td>0.9</td>\n",
    "        <td>Probability of not having cancer</td> \n",
    "    </tr>      \n",
    "     <tr>\n",
    "        <td>c</td>\n",
    "        <td>P (Pos | C)</td>\n",
    "        <td>0.9</td>\n",
    "        <td>Sensitivity. Probability of of testing positive, given person has cancer</td>         \n",
    "    </tr>\n",
    "     <tr>\n",
    "        <td>d</td>\n",
    "        <td>P (Neg | C)</td>\n",
    "        <td>0.1</td>\n",
    "        <td>Given person has cancer, probability to test negative</td>         \n",
    "    </tr>        \n",
    "    <tr>\n",
    "        <td>e</td>\n",
    "        <td>P (Neg | !C)</td>\n",
    "        <td>0.5</td>\n",
    "        <td>specificity. Probability of of testing negative, given person does not have cancer</td>         \n",
    "    </tr>\n",
    "    <tr>\n",
    "        <td>f</td>\n",
    "        <td>P (Pos | !C)</td>\n",
    "        <td>0.5</td>\n",
    "        <td>Given person does not have cancer, probability to test positive</td>         \n",
    "    </tr>        \n",
    "</table>\n",
    "\n",
    "<br> \n"
   ]
  },
  {
   "cell_type": "markdown",
   "metadata": {},
   "source": [
    "Calculate the following: <br>\n",
    "<br>\n",
    "<strong>Test = Neg. Calculate:</strong>\n",
    "- P(C, Neg)\n",
    "- P(!C, Neg)\n",
    "- P(Neg)\n",
    "- P(C | Neg)\n",
    "- P(!C | Neg)\n",
    "\n",
    "Notes:\n",
    "- P(C, Neg) = P( C ) * P(Neg | C) \n",
    "- P(!C, Neg) = P( !C ) * P(Neg | C) \n",
    "- P(Neg) = P(C, Neg) + P(!C, Neg)\n",
    "- P(C | Neg) = P(C, Neg) / P(Neg)\n",
    "- P(!C | Neg) = P(!C, Neg) / P(Neg)"
   ]
  },
  {
   "cell_type": "code",
   "execution_count": 67,
   "metadata": {},
   "outputs": [],
   "source": [
    "a = 0.1    # P( C ) \n",
    "b = 1 - a  # P( !C ) \n",
    "c = 0.9    # P(Pos | C)\n",
    "d = 1 - c  # P(Neg | C)\n",
    "e = 0.5    # P(Neg | !C)\n",
    "f = 1 - e  # P(Pos | !C)\n",
    "\n",
    "# to calculate:\n",
    "g = 0               # (C, Neg) = P( C ) * P(Neg | C)"
   ]
  },
  {
   "cell_type": "code",
   "execution_count": 83,
   "metadata": {},
   "outputs": [
    {
     "name": "stdout",
     "output_type": "stream",
     "text": [
      "Test = Neg. Calculate:\n",
      "---------------------:\n",
      "P(C, Neg) =  0.009999999999999998\n",
      "P(!C, Neg) =  0.45\n",
      "\n",
      "P(Neg) =  0.46\n",
      "\n",
      "P(C | Neg) =  0.021739130434782605\n",
      "P(!C | Neg) =  0.9782608695652174\n"
     ]
    }
   ],
   "source": [
    "print('Test = Neg. Calculate:')\n",
    "print('---------------------:')\n",
    "\n",
    "# P(C, Neg) = P( C ) * P(Neg | C)\n",
    "g = a * d\n",
    "print('P(C, Neg) = ', g)\n",
    "\n",
    "# P(!C, Neg) = P( !C ) * P(Neg | !C)\n",
    "h = b * e\n",
    "print('P(!C, Neg) = ', h)\n",
    "\n",
    "print('')\n",
    "\n",
    "# P(Neg) = P(C, Neg) + P(!C, Neg)\n",
    "i = g + h\n",
    "print('P(Neg) = ' ,i)\n",
    "\n",
    "print('')\n",
    "\n",
    "# P(C | Neg) = P(C, Neg) / P(Neg)\n",
    "j = g / i\n",
    "print('P(C | Neg) = ', j)\n",
    "\n",
    "# P(!C | Neg) = P(!C, Neg) / P(Neg)\n",
    "k = h / i\n",
    "print('P(!C | Neg) = ' ,k)"
   ]
  },
  {
   "cell_type": "code",
   "execution_count": 134,
   "metadata": {},
   "outputs": [
    {
     "name": "stdout",
     "output_type": "stream",
     "text": [
      "Test = Pos. Calculate:\n",
      "---------------------:\n",
      "P(C, Pos) =  0.006\n",
      "P(!C, Pos) =  0.27999999999999997\n",
      "\n",
      "P(Pos) =  0.286\n",
      "\n",
      "P(C | Pos) =  0.02097902097902098\n",
      "P(!C | Pos) =  0.979020979020979\n"
     ]
    }
   ],
   "source": [
    "print('Test = Pos. Calculate:')\n",
    "print('---------------------:')\n",
    "\n",
    "# P(C, Pos) = P( C ) * P(Pos | C)\n",
    "g = a * c\n",
    "print('P(C, Pos) = ', g)\n",
    "\n",
    "# P(!C, Pos) = P( !C ) * P(Pos | !C)\n",
    "h = b * f\n",
    "print('P(!C, Pos) = ', h)\n",
    "\n",
    "print('')\n",
    "\n",
    "# P(Pos) = P(C, Pos) + P(!C, Pos)\n",
    "i = g + h\n",
    "print('P(Pos) = ' ,i)\n",
    "\n",
    "print('')\n",
    "\n",
    "# P(C | Pos) = P(C, Pos) / P(Pos)\n",
    "j = g / i\n",
    "print('P(C | Pos) = ', j)\n",
    "\n",
    "# P(!C | Pos) = P(!C, Pos) / P(Pos)\n",
    "k = h / i\n",
    "print('P(!C | Pos) = ' ,k)"
   ]
  },
  {
   "cell_type": "code",
   "execution_count": null,
   "metadata": {},
   "outputs": [],
   "source": []
  },
  {
   "cell_type": "markdown",
   "metadata": {},
   "source": [
    "## Robot example "
   ]
  },
  {
   "cell_type": "code",
   "execution_count": 109,
   "metadata": {},
   "outputs": [],
   "source": [
    "a = 0.5    # P( R ) \n",
    "b = 1 - a  # P( !R ) \n",
    "c = 0.8    # P(Pos | R)\n",
    "d = 1 - c  # P(Neg | R)\n",
    "e = 0.8    # P(Neg | !R)\n",
    "f = 1 - e  # P(Pos | !R)\n"
   ]
  },
  {
   "cell_type": "code",
   "execution_count": 110,
   "metadata": {},
   "outputs": [
    {
     "name": "stdout",
     "output_type": "stream",
     "text": [
      "Test = Pos. Calculate:\n",
      "---------------------:\n",
      "P(C, Pos) =  0.4\n",
      "P(!C, Pos) =  0.09999999999999998\n",
      "\n",
      "P(Pos) =  0.5\n",
      "\n",
      "P(R | Pos) =  0.8\n",
      "P(!R | Pos) =  0.19999999999999996\n"
     ]
    }
   ],
   "source": [
    "print('Test = Pos. Calculate:')\n",
    "print('---------------------:')\n",
    "\n",
    "# P(R, Pos) = P( R ) * P(Pos | R)\n",
    "g = a * c\n",
    "print('P(C, Pos) = ', g)\n",
    "\n",
    "# P(!R, Neg) = P( !R ) * P(Neg | !R)\n",
    "h = b * f\n",
    "print('P(!C, Pos) = ', h)\n",
    "\n",
    "print('')\n",
    "\n",
    "# P(Pos) = P(R, Neg) + P(!R, Neg)\n",
    "i = g + h\n",
    "print('P(Pos) = ' ,i)\n",
    "\n",
    "print('')\n",
    "\n",
    "# P(R | Pos) = P(R, Pos) / P(Pos)\n",
    "j = g / i\n",
    "print('P(R | Pos) = ', j)\n",
    "\n",
    "# P(!C | Pos) = P(!C, Pos) / P(Pos)\n",
    "k = h / i\n",
    "print('P(!R | Pos) = ' ,k)"
   ]
  },
  {
   "cell_type": "code",
   "execution_count": 111,
   "metadata": {},
   "outputs": [],
   "source": [
    "a = 0.     # P( R ) \n",
    "b = 1 - a  # P( !R ) \n",
    "c = 0.8    # P(Pos | R)\n",
    "d = 1 - c  # P(Neg | R)\n",
    "e = 0.8    # P(Neg | !R)\n",
    "f = 1 - e  # P(Pos | !R)\n",
    "\n",
    "# to calculate:\n",
    "g = 0               # (R, Neg) = P( R ) * P(Neg | R)"
   ]
  },
  {
   "cell_type": "code",
   "execution_count": 112,
   "metadata": {},
   "outputs": [
    {
     "name": "stdout",
     "output_type": "stream",
     "text": [
      "Test = Pos. Calculate:\n",
      "---------------------:\n",
      "P(C, Pos) =  0.0\n",
      "P(!C, Pos) =  0.19999999999999996\n",
      "\n",
      "P(Pos) =  0.19999999999999996\n",
      "\n",
      "P(R | Pos) =  0.0\n",
      "P(!R | Pos) =  1.0\n"
     ]
    }
   ],
   "source": [
    "print('Test = Pos. Calculate:')\n",
    "print('---------------------:')\n",
    "\n",
    "# P(R, Pos) = P( R ) * P(Pos | R)\n",
    "g = a * c\n",
    "print('P(C, Pos) = ', g)\n",
    "\n",
    "# P(!R, Neg) = P( !R ) * P(Neg | !R)\n",
    "h = b * f\n",
    "print('P(!C, Pos) = ', h)\n",
    "\n",
    "print('')\n",
    "\n",
    "# P(Pos) = P(R, Neg) + P(!R, Neg)\n",
    "i = g + h\n",
    "print('P(Pos) = ' ,i)\n",
    "\n",
    "print('')\n",
    "\n",
    "# P(R | Pos) = P(R, Pos) / P(Pos)\n",
    "j = g / i\n",
    "print('P(R | Pos) = ', j)\n",
    "\n",
    "# P(!C | Pos) = P(!C, Pos) / P(Pos)\n",
    "k = h / i\n",
    "print('P(!R | Pos) = ' ,k)"
   ]
  },
  {
   "cell_type": "code",
   "execution_count": null,
   "metadata": {},
   "outputs": [],
   "source": []
  },
  {
   "cell_type": "code",
   "execution_count": 113,
   "metadata": {},
   "outputs": [],
   "source": [
    "a = 0.5      # P( R ) \n",
    "b = 1 - a  # P( !R ) \n",
    "c = 0.8    # P(Pos | R)\n",
    "d = 1 - c  # P(Neg | R)\n",
    "e = 0.5    # P(Neg | !R)\n",
    "f = 1 - e  # P(Pos | !R)\n",
    "\n",
    "# to calculate:\n",
    "g = 0               # (R, Neg) = P( R ) * P(Neg | R)"
   ]
  },
  {
   "cell_type": "code",
   "execution_count": 114,
   "metadata": {},
   "outputs": [
    {
     "name": "stdout",
     "output_type": "stream",
     "text": [
      "Test = Pos. Calculate:\n",
      "---------------------:\n",
      "P(C, Pos) =  0.4\n",
      "P(!C, Pos) =  0.25\n",
      "\n",
      "P(Pos) =  0.65\n",
      "\n",
      "P(R | Pos) =  0.6153846153846154\n",
      "P(!R | Pos) =  0.3846153846153846\n"
     ]
    }
   ],
   "source": [
    "print('Test = Pos. Calculate:')\n",
    "print('---------------------:')\n",
    "\n",
    "# P(R, Pos) = P( R ) * P(Pos | R)\n",
    "g = a * c\n",
    "print('P(C, Pos) = ', g)\n",
    "\n",
    "# P(!R, Neg) = P( !R ) * P(Neg | !R)\n",
    "h = b * f\n",
    "print('P(!C, Pos) = ', h)\n",
    "\n",
    "print('')\n",
    "\n",
    "# P(Pos) = P(R, Neg) + P(!R, Neg)\n",
    "i = g + h\n",
    "print('P(Pos) = ' ,i)\n",
    "\n",
    "print('')\n",
    "\n",
    "# P(R | Pos) = P(R, Pos) / P(Pos)\n",
    "j = g / i\n",
    "print('P(R | Pos) = ', j)\n",
    "\n",
    "# P(!C | Pos) = P(!C, Pos) / P(Pos)\n",
    "k = h / i\n",
    "print('P(!R | Pos) = ' ,k)"
   ]
  },
  {
   "cell_type": "code",
   "execution_count": 116,
   "metadata": {},
   "outputs": [
    {
     "data": {
      "text/plain": [
       "0.03333333333333333"
      ]
     },
     "execution_count": 116,
     "metadata": {},
     "output_type": "execute_result"
    }
   ],
   "source": [
    "1 / 3 * (0.1)"
   ]
  },
  {
   "cell_type": "code",
   "execution_count": 118,
   "metadata": {},
   "outputs": [
    {
     "data": {
      "text/plain": [
       "0.09016393442622951"
      ]
     },
     "execution_count": 118,
     "metadata": {},
     "output_type": "execute_result"
    }
   ],
   "source": [
    "0.033/0.366"
   ]
  },
  {
   "cell_type": "code",
   "execution_count": null,
   "metadata": {},
   "outputs": [],
   "source": []
  },
  {
   "cell_type": "markdown",
   "metadata": {},
   "source": [
    "### Sebastian example"
   ]
  },
  {
   "cell_type": "code",
   "execution_count": 150,
   "metadata": {},
   "outputs": [
    {
     "name": "stdout",
     "output_type": "stream",
     "text": [
      "P(H, R) =  0.004\n",
      "P(!H, R) =  0.18\n",
      "\n",
      "P(R) =  0.184\n",
      "\n",
      "P(H|R) =  0.021739130434782608\n",
      "P(!H|R) =  0.9782608695652174\n"
     ]
    }
   ],
   "source": [
    "a = 0.4  # P( H ) \n",
    "b = 0.6  # P( !H ) \n",
    "\n",
    "c = 0.01   # P(R  | H)\n",
    "d = 0.99   # P(!R | H)\n",
    "e = 0.7    # P(!R | !H)\n",
    "f = 0.3    # P(R  | !H)\n",
    "\n",
    "# to calculate formula:\n",
    "#P(A|B) = P(A) * P(B|A) / P(B)\n",
    "#P(H|R) = P(H) * P(R|H) / P(R)\n",
    "\n",
    "# P(H)   = 0.4        = a\n",
    "# P(R|H) = 0.01       = c\n",
    "# P(R)   = ?\n",
    "\n",
    "\n",
    "# Step 1\n",
    "# P(R) = P(H, R) + P(!H, R)\n",
    "# P(H, R) = P(H) * P(R|H)\n",
    "g = a * c\n",
    "print('P(H, R) = ', g)\n",
    "\n",
    "# P(!H,R) = P(!H) * P(R|!H)\n",
    "h = b * f\n",
    "print('P(!H, R) = ', h)\n",
    "\n",
    "print('')\n",
    "\n",
    "# P(R) = P(H,R) + P(!H,R)\n",
    "i = g + h\n",
    "print('P(R) = ' ,i)\n",
    "\n",
    "print('')\n",
    "\n",
    "# P(H |R) = P(H,R) / P(R)\n",
    "j = g / i\n",
    "print('P(H|R) = ', j)\n",
    "\n",
    "# P(!H | Pos) = P(!H,R) / P(R)\n",
    "k = h / i\n",
    "print('P(!H|R) = ' ,k)"
   ]
  },
  {
   "cell_type": "code",
   "execution_count": null,
   "metadata": {},
   "outputs": [],
   "source": []
  },
  {
   "cell_type": "code",
   "execution_count": 151,
   "metadata": {},
   "outputs": [
    {
     "data": {
      "text/plain": [
       "0.020000000000000004"
      ]
     },
     "execution_count": 151,
     "metadata": {},
     "output_type": "execute_result"
    }
   ],
   "source": [
    "0.2*0.1"
   ]
  },
  {
   "cell_type": "code",
   "execution_count": 152,
   "metadata": {},
   "outputs": [
    {
     "data": {
      "text/plain": [
       "0.6"
      ]
     },
     "execution_count": 152,
     "metadata": {},
     "output_type": "execute_result"
    }
   ],
   "source": [
    "# P(H, R) = P(H) * P(R|H)\n",
    "# P(R, H) = P(R) * P(H|R)\n",
    "\n",
    "#and P(A) = 0.2, P(B) = 0.1, and P(B|A) = 0.3 what is P(A|B)\n",
    "\n",
    "# P(A|B) =  / P(A) * P(B|A) / P(B)\n",
    "0.2 * 0.3 / 0.1\n",
    "\n",
    "\n",
    "\n"
   ]
  },
  {
   "cell_type": "code",
   "execution_count": null,
   "metadata": {},
   "outputs": [],
   "source": []
  },
  {
   "cell_type": "code",
   "execution_count": null,
   "metadata": {},
   "outputs": [],
   "source": []
  },
  {
   "cell_type": "markdown",
   "metadata": {},
   "source": [
    "Given the following, calculate P(S|Y) "
   ]
  },
  {
   "cell_type": "code",
   "execution_count": 155,
   "metadata": {},
   "outputs": [],
   "source": [
    "a = 0.4  # P(S) \n",
    "b = 0.6  # P(!S) \n",
    "m = 0.1  # p(Y)\n",
    "\n",
    "c = 0.12   # P(Y|S)  \n",
    "\n",
    "#P(S|Y)  =  P(S) * P(Y|S) / P(Y) "
   ]
  },
  {
   "cell_type": "code",
   "execution_count": 156,
   "metadata": {},
   "outputs": [
    {
     "data": {
      "text/plain": [
       "0.48"
      ]
     },
     "execution_count": 156,
     "metadata": {},
     "output_type": "execute_result"
    }
   ],
   "source": [
    "# P(S|Y) \n",
    "\n",
    "0.4 * 0.12 / 0.1"
   ]
  },
  {
   "cell_type": "markdown",
   "metadata": {},
   "source": [
    "Given the following, calculate P(L|F)"
   ]
  },
  {
   "cell_type": "code",
   "execution_count": 160,
   "metadata": {},
   "outputs": [],
   "source": [
    "l = 0.2      # P(L)\n",
    "f = 0.4      # P(F)\n",
    "\n",
    "fl = 0.9    # P(F|L) \n",
    "\n",
    "# P(L|F) = ?\n",
    "# P(L|F) = P(L) * P(F|L) / P(F)"
   ]
  },
  {
   "cell_type": "code",
   "execution_count": 161,
   "metadata": {},
   "outputs": [
    {
     "data": {
      "text/plain": [
       "0.45"
      ]
     },
     "execution_count": 161,
     "metadata": {},
     "output_type": "execute_result"
    }
   ],
   "source": [
    "l * fl / f"
   ]
  },
  {
   "cell_type": "code",
   "execution_count": 166,
   "metadata": {},
   "outputs": [
    {
     "data": {
      "text/plain": [
       "0.15384615384615385"
      ]
     },
     "execution_count": 166,
     "metadata": {},
     "output_type": "execute_result"
    }
   ],
   "source": [
    "a = 0.01      # P(C) ,  1% of people have cancer\n",
    "b = 0.9       # P(P|C)  90% of people that have cancer test positive \n",
    "c = 0.05      # P(P|!C)    \n",
    "e = 0.99      # P(!C)\n",
    "\n",
    "# P(C | P)\n",
    "# P(C|P) = P(C) * (P|C) / P(P)\n",
    "# P(P) = P(C, P) + P(!C, P) \n",
    "\n",
    "# P(C, P) = p(C) * P(P|c)\n",
    "pcp = a * b\n",
    "\n",
    "# P(!C, P) = p(!C) * P(P|!c)\n",
    "pncp = e * c\n",
    "\n",
    "# p(P)\n",
    "p = pcp + pncp\n",
    "\n",
    "# P(C|P) = P(C) * (P|C) / P(P)\n",
    "a * b / p"
   ]
  },
  {
   "cell_type": "code",
   "execution_count": null,
   "metadata": {},
   "outputs": [],
   "source": []
  }
 ],
 "metadata": {
  "kernelspec": {
   "display_name": "Python 3",
   "language": "python",
   "name": "python3"
  },
  "language_info": {
   "codemirror_mode": {
    "name": "ipython",
    "version": 3
   },
   "file_extension": ".py",
   "mimetype": "text/x-python",
   "name": "python",
   "nbconvert_exporter": "python",
   "pygments_lexer": "ipython3",
   "version": "3.8.5"
  }
 },
 "nbformat": 4,
 "nbformat_minor": 4
}
