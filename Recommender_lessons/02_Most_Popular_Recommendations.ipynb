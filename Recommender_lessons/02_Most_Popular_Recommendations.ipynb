{
 "cells": [
  {
   "cell_type": "markdown",
   "metadata": {},
   "source": [
    "### Recommendations with MovieTweetings: Most Popular Recommendation\n",
    "\n",
    "Now that you have created the necessary columns we will be using throughout the rest of the lesson on creating recommendations, let's get started with the first of our recommendations.\n",
    "\n",
    "To get started, read in the libraries and the two datasets you will be using throughout the lesson using the code below.\n"
   ]
  },
  {
   "cell_type": "code",
   "execution_count": 49,
   "metadata": {},
   "outputs": [],
   "source": [
    "import numpy as np\n",
    "import pandas as pd\n",
    "import matplotlib.pyplot as plt\n",
    "import tests as t\n",
    "\n",
    "%matplotlib inline\n",
    "\n",
    "# Read in the datasets\n",
    "movies = pd.read_csv('movies_clean.csv')\n",
    "reviews = pd.read_csv('reviews_clean.csv')\n",
    "del movies['Unnamed: 0']\n",
    "del reviews['Unnamed: 0']"
   ]
  },
  {
   "cell_type": "markdown",
   "metadata": {},
   "source": [
    "#### 1. How To Find The Most Popular Movies\n",
    "\n",
    "For this notebook, we have a single task.  The task is that no matter the user, we need to provide a list of the recommendations based on simply the most popular items.\n",
    "\n",
    "For this task, we will consider what is \"most popular\" based on the following criteria:\n",
    "\n",
    "* A movie with the highest average rating is considered best\n",
    "* With ties, movies that have more ratings are better\n",
    "* A movie must have a minimum of 5 ratings to be considered among the best movies\n",
    "* If movies are tied in their average rating and number of ratings, the ranking is determined by the movie that is the most recent rating\n",
    "\n",
    "With these criteria, the goal for this notebook is to take a **user_id** and provide back the **n_top** recommendations.  Use the function below as the scaffolding that will be used for all the future recommendations as well."
   ]
  },
  {
   "cell_type": "code",
   "execution_count": 50,
   "metadata": {},
   "outputs": [
    {
     "data": {
      "text/html": [
       "<div>\n",
       "<style scoped>\n",
       "    .dataframe tbody tr th:only-of-type {\n",
       "        vertical-align: middle;\n",
       "    }\n",
       "\n",
       "    .dataframe tbody tr th {\n",
       "        vertical-align: top;\n",
       "    }\n",
       "\n",
       "    .dataframe thead th {\n",
       "        text-align: right;\n",
       "    }\n",
       "</style>\n",
       "<table border=\"1\" class=\"dataframe\">\n",
       "  <thead>\n",
       "    <tr style=\"text-align: right;\">\n",
       "      <th></th>\n",
       "      <th>user_id</th>\n",
       "      <th>movie_id</th>\n",
       "      <th>rating</th>\n",
       "      <th>timestamp</th>\n",
       "      <th>date</th>\n",
       "    </tr>\n",
       "  </thead>\n",
       "  <tbody>\n",
       "    <tr>\n",
       "      <th>770993</th>\n",
       "      <td>60743</td>\n",
       "      <td>1518812</td>\n",
       "      <td>7</td>\n",
       "      <td>1572878661</td>\n",
       "      <td>2019-11-04 16:44:21</td>\n",
       "    </tr>\n",
       "    <tr>\n",
       "      <th>761391</th>\n",
       "      <td>59986</td>\n",
       "      <td>963178</td>\n",
       "      <td>7</td>\n",
       "      <td>1371986924</td>\n",
       "      <td>2013-06-23 13:28:44</td>\n",
       "    </tr>\n",
       "    <tr>\n",
       "      <th>809683</th>\n",
       "      <td>63818</td>\n",
       "      <td>2510894</td>\n",
       "      <td>9</td>\n",
       "      <td>1452832146</td>\n",
       "      <td>2016-01-15 06:29:06</td>\n",
       "    </tr>\n",
       "    <tr>\n",
       "      <th>473625</th>\n",
       "      <td>37336</td>\n",
       "      <td>7664504</td>\n",
       "      <td>9</td>\n",
       "      <td>1546479127</td>\n",
       "      <td>2019-01-03 03:32:07</td>\n",
       "    </tr>\n",
       "    <tr>\n",
       "      <th>769987</th>\n",
       "      <td>60712</td>\n",
       "      <td>2084970</td>\n",
       "      <td>10</td>\n",
       "      <td>1422090674</td>\n",
       "      <td>2015-01-24 11:11:14</td>\n",
       "    </tr>\n",
       "  </tbody>\n",
       "</table>\n",
       "</div>"
      ],
      "text/plain": [
       "        user_id  movie_id  rating   timestamp                 date\n",
       "770993    60743   1518812       7  1572878661  2019-11-04 16:44:21\n",
       "761391    59986    963178       7  1371986924  2013-06-23 13:28:44\n",
       "809683    63818   2510894       9  1452832146  2016-01-15 06:29:06\n",
       "473625    37336   7664504       9  1546479127  2019-01-03 03:32:07\n",
       "769987    60712   2084970      10  1422090674  2015-01-24 11:11:14"
      ]
     },
     "execution_count": 50,
     "metadata": {},
     "output_type": "execute_result"
    }
   ],
   "source": [
    "reviews.sample(5)"
   ]
  },
  {
   "cell_type": "code",
   "execution_count": 51,
   "metadata": {},
   "outputs": [],
   "source": [
    "# Function to get average rating\n",
    "def get_reviews_avg_nr(ival):\n",
    "    temp_rev = reviews[reviews['movie_id'] == ival]\n",
    "    i_nr_of_ratings = len(temp_rev)\n",
    "\n",
    "    if i_nr_of_ratings > 0:\n",
    "        i_avg_rating = np.average(temp_rev['rating'])\n",
    "        i_last_rating = temp_rev['date'].max()\n",
    "    else: \n",
    "        i_avg_rating = np.nan\n",
    "        i_last_rating = np.nan\n",
    "    \n",
    "    return i_avg_rating, i_nr_of_ratings, i_last_rating"
   ]
  },
  {
   "cell_type": "code",
   "execution_count": 52,
   "metadata": {},
   "outputs": [],
   "source": [
    "def get_top_movie_ratings():\n",
    "    movies['average_rating'] = np.nan\n",
    "    movies['nr_of_reviews'] = np.nan\n",
    "    movies['last_review'] = np.nan\n",
    "\n",
    "    for i in range(len(movies)):\n",
    "        iavg_rating, i_nr_of_ratings, ilast_rating = get_reviews_avg_nr(movies['movie_id'][i])\n",
    "        movies.iloc[i, movies.columns.get_loc('average_rating')] = iavg_rating\n",
    "        movies.iloc[i, movies.columns.get_loc('nr_of_reviews')] = i_nr_of_ratings\n",
    "        movies.iloc[i, movies.columns.get_loc('last_review')] = ilast_rating    \n",
    "\n",
    "    movies_rankings = movies[movies['nr_of_reviews'] >= 4]\n",
    "    \n",
    "    return(movies_rankings)\n",
    "\n",
    "global_movies_rankings = get_top_movie_ratings()"
   ]
  },
  {
   "cell_type": "code",
   "execution_count": 53,
   "metadata": {},
   "outputs": [],
   "source": [
    "def popular_recommendations(user_id, n_top, movies_rankings):\n",
    "    '''\n",
    "    INPUT:\n",
    "    user_id - the user_id of the individual you are making recommendations for\n",
    "    n_top - an integer of the number recommendations you want back\n",
    "    OUTPUT:\n",
    "    top_movies - a list of the n_top recommended movies by movie title in order best to worst\n",
    "    '''\n",
    "    movies_rankings = movies_rankings.sort_values(by=['average_rating', 'nr_of_reviews', 'last_review'], ascending=False)\n",
    "    top_movies = movies_rankings[0:n_top]\n",
    "    \n",
    "    return top_movies # a list of the n_top movies as recommended"
   ]
  },
  {
   "cell_type": "markdown",
   "metadata": {},
   "source": [
    "Usint the three criteria above, you should be able to put together the above function.  If you feel confident in your solution, check the results of your function against our solution. On the next page, you can see a walkthrough and you can of course get the solution by looking at the solution notebook available in this workspace.  "
   ]
  },
  {
   "cell_type": "code",
   "execution_count": 54,
   "metadata": {},
   "outputs": [],
   "source": [
    "# Put your solutions for each of the cases here\n",
    "\n",
    "# Top 20 movies recommended for id 1\n",
    "recs_20_for_1 = popular_recommendations(1, 20, global_movies_rankings)\n",
    "\n",
    "# # Top 5 movies recommended for id 53968\n",
    "recs_5_for_53968 = popular_recommendations(53968, 5, global_movies_rankings)\n",
    "\n",
    "# # Top 100 movies recommended for id 70000\n",
    "recs_100_for_70000 = popular_recommendations(70000, 100, global_movies_rankings)\n",
    "\n",
    "# Top 35 movies recommended for id 43\n",
    "recs_35_for_43 = popular_recommendations(43, 35, global_movies_rankings)\n",
    "\n"
   ]
  },
  {
   "cell_type": "code",
   "execution_count": 55,
   "metadata": {},
   "outputs": [
    {
     "ename": "AttributeError",
     "evalue": "module 'tests' has no attribute 'create_ranked_df'",
     "output_type": "error",
     "traceback": [
      "\u001b[0;31m---------------------------------------------------------------------------\u001b[0m",
      "\u001b[0;31mAttributeError\u001b[0m                            Traceback (most recent call last)",
      "\u001b[0;32m<ipython-input-55-e91bbe474cf3>\u001b[0m in \u001b[0;36m<module>\u001b[0;34m\u001b[0m\n\u001b[1;32m      1\u001b[0m \u001b[0;31m### You Should Not Need To Modify Anything In This Cell\u001b[0m\u001b[0;34m\u001b[0m\u001b[0;34m\u001b[0m\u001b[0;34m\u001b[0m\u001b[0m\n\u001b[0;32m----> 2\u001b[0;31m \u001b[0mranked_movies\u001b[0m \u001b[0;34m=\u001b[0m \u001b[0mt\u001b[0m\u001b[0;34m.\u001b[0m\u001b[0mcreate_ranked_df\u001b[0m\u001b[0;34m(\u001b[0m\u001b[0mmovies\u001b[0m\u001b[0;34m,\u001b[0m \u001b[0mreviews\u001b[0m\u001b[0;34m)\u001b[0m \u001b[0;31m# only run this once - it is not fast\u001b[0m\u001b[0;34m\u001b[0m\u001b[0;34m\u001b[0m\u001b[0m\n\u001b[0m\u001b[1;32m      3\u001b[0m \u001b[0;34m\u001b[0m\u001b[0m\n\u001b[1;32m      4\u001b[0m \u001b[0;31m# check 1\u001b[0m\u001b[0;34m\u001b[0m\u001b[0;34m\u001b[0m\u001b[0;34m\u001b[0m\u001b[0m\n\u001b[1;32m      5\u001b[0m \u001b[0;32massert\u001b[0m \u001b[0mt\u001b[0m\u001b[0;34m.\u001b[0m\u001b[0mpopular_recommendations\u001b[0m\u001b[0;34m(\u001b[0m\u001b[0;34m'1'\u001b[0m\u001b[0;34m,\u001b[0m \u001b[0;36m20\u001b[0m\u001b[0;34m,\u001b[0m \u001b[0mranked_movies\u001b[0m\u001b[0;34m)\u001b[0m \u001b[0;34m==\u001b[0m \u001b[0mrecs_20_for_1\u001b[0m\u001b[0;34m,\u001b[0m  \u001b[0;34m\"The first check failed...\"\u001b[0m\u001b[0;34m\u001b[0m\u001b[0;34m\u001b[0m\u001b[0m\n",
      "\u001b[0;31mAttributeError\u001b[0m: module 'tests' has no attribute 'create_ranked_df'"
     ]
    }
   ],
   "source": [
    "### You Should Not Need To Modify Anything In This Cell\n",
    "ranked_movies = t.create_ranked_df(movies, reviews) # only run this once - it is not fast\n",
    "\n",
    "# check 1 \n",
    "assert t.popular_recommendations('1', 20, ranked_movies) == recs_20_for_1,  \"The first check failed...\"\n",
    "# check 2\n",
    "assert t.popular_recommendations('53968', 5, ranked_movies) == recs_5_for_53968,  \"The second check failed...\"\n",
    "# check 3\n",
    "assert t.popular_recommendations('70000', 100, ranked_movies) == recs_100_for_70000,  \"The third check failed...\"\n",
    "# check 4\n",
    "assert t.popular_recommendations('43', 35, ranked_movies) == recs_35_for_43,  \"The fourth check failed...\"\n",
    "\n",
    "print(\"If you got here, looks like you are good to go!  Nice job!\")"
   ]
  },
  {
   "cell_type": "markdown",
   "metadata": {},
   "source": [
    "**Notice:** This wasn't the only way we could have determined the \"top rated\" movies.  You can imagine that in keeping track of trending news or trending social events, you would likely want to create a time window from the current time, and then pull the articles in the most recent time frame.  There are always going to be some subjective decisions to be made.  \n",
    "\n",
    "If you find that no one is paying any attention to your most popular recommendations, then it might be time to find a new way to recommend, which is what the next parts of the lesson should prepare us to do!\n"
   ]
  },
  {
   "cell_type": "markdown",
   "metadata": {},
   "source": [
    "### Part II: Adding Filters\n",
    "\n",
    "Now that you have created a function to give back the **n_top** movies, let's make it a bit more robust.  Add arguments that will act as filters for the movie **year** and **genre**.  \n",
    "\n",
    "Use the cells below to adjust your existing function to allow for **year** and **genre** arguments as **lists** of **strings**.  Then your ending results are filtered to only movies within the lists of provided years and genres (as `or` conditions).  If no list is provided, there should be no filter applied.\n",
    "\n",
    "You can adjust other necessary inputs as necessary to retrieve the final results you are looking for!\n",
    "\n",
    "Try writing a few tests against the test function in our test function.  Below returns the top 20 movies for user 1 based on the specified year and genre filters.  Does yours return the same? \n",
    "\n",
    "```\n",
    "t.popular_recs_filtered('1', 20, ranked_movies, years=['2015', '2016', '2017', '2018'], genres=['History'])\n",
    "```"
   ]
  },
  {
   "cell_type": "code",
   "execution_count": null,
   "metadata": {},
   "outputs": [],
   "source": [
    "movie_rankings = global_movies_rankings\n",
    "\n",
    "years = ['2015', '2016', '2017', '2018']\n",
    "\n",
    "if len(years) > 0:\n",
    "    movie_rankings = movie_rankings[movie_rankings['date'].isin(years)]    \n",
    "    \n",
    "movie_rankings.head()"
   ]
  },
  {
   "cell_type": "code",
   "execution_count": null,
   "metadata": {},
   "outputs": [],
   "source": [
    "genres = ['Animation', 'Short']\n",
    "\n",
    "if len(genres) > 0:\n",
    "    movies_rankings_genres = []\n",
    "for i in range(len(genres)):\n",
    "    ifiltered = movie_rankings[movie_rankings[genres[i]] == 1]\n",
    "    if len(movies_rankings_genres) == 0:\n",
    "        movies_rankings_genres = ifiltered\n",
    "    else:    \n",
    "        movies_rankings_genres = pd.concat([movies_rankings_genres, ifiltered])\n",
    "    \n",
    "\n",
    "\n"
   ]
  },
  {
   "cell_type": "code",
   "execution_count": null,
   "metadata": {},
   "outputs": [],
   "source": [
    "def popular_recs_filtered(user_id, n_top, movies_rankings, years, genres):\n",
    "    '''\n",
    "    INPUT:\n",
    "    user_id - the user_id of the individual you are making recommendations for\n",
    "    n_top - an integer of the number recommendations you want back\n",
    "    OUTPUT:\n",
    "    top_movies - a list of the n_top recommended movies by movie title in order best to worst\n",
    "    '''\n",
    "\n",
    "    movies_rankings = movies_rankings.sort_values(by=['average_rating', 'nr_of_reviews', 'last_review'], ascending=False)\n",
    "\n",
    "    # filter years                         \n",
    "    if len(years) > 0:\n",
    "        movies_rankings = movies_rankings[movies_rankings['date'].isin(years)]                              \n",
    "\n",
    "    # filter by genres\n",
    "    if len(genres) > 0:\n",
    "        movies_rankings_genres = []\n",
    "        for i in range(len(genres)):\n",
    "            ifiltered = movies_rankings[movies_rankings[genres[i]] == 1]\n",
    "            if len(movies_rankings_genres) == 0:\n",
    "                movies_rankings_genres = ifiltered\n",
    "            else:    \n",
    "                movies_rankings_genres = pd.concat([movies_rankings_genres, ifiltered])\n",
    "        movies_rankings = movies_rankings_genres\n",
    "        \n",
    "    top_movies = movies_rankings[0:n_top]\n",
    "    \n",
    "    return top_movies # a list of the n_top movies as recommended"
   ]
  },
  {
   "cell_type": "code",
   "execution_count": null,
   "metadata": {},
   "outputs": [],
   "source": [
    "popular_recs_filtered('1', 5, global_movies_rankings, years=['2015', '2016', '2017', '2018'], genres=['Animation'])"
   ]
  },
  {
   "cell_type": "code",
   "execution_count": null,
   "metadata": {},
   "outputs": [],
   "source": []
  },
  {
   "cell_type": "code",
   "execution_count": null,
   "metadata": {},
   "outputs": [],
   "source": [
    "num_genre_match = global_ranked_movies[genres].sum(axis=1)\n",
    "ranked_movies = global_ranked_movies.loc[num_genre_match > 0, :]"
   ]
  },
  {
   "cell_type": "code",
   "execution_count": null,
   "metadata": {},
   "outputs": [],
   "source": []
  }
 ],
 "metadata": {
  "kernelspec": {
   "display_name": "Python 3",
   "language": "python",
   "name": "python3"
  },
  "language_info": {
   "codemirror_mode": {
    "name": "ipython",
    "version": 3
   },
   "file_extension": ".py",
   "mimetype": "text/x-python",
   "name": "python",
   "nbconvert_exporter": "python",
   "pygments_lexer": "ipython3",
   "version": "3.8.5"
  }
 },
 "nbformat": 4,
 "nbformat_minor": 2
}
